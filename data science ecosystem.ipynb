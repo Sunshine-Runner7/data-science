{
  "metadata": {
    "language_info": {
      "codemirror_mode": {
        "name": "python",
        "version": 3
      },
      "file_extension": ".py",
      "mimetype": "text/x-python",
      "name": "python",
      "nbconvert_exporter": "python",
      "pygments_lexer": "ipython3",
      "version": "3.8"
    },
    "kernelspec": {
      "name": "python",
      "display_name": "Python (Pyodide)",
      "language": "python"
    }
  },
  "nbformat_minor": 4,
  "nbformat": 4,
  "cells": [
    {
      "cell_type": "markdown",
      "source": "Data Science and ecosystem ",
      "metadata": {}
    },
    {
      "cell_type": "markdown",
      "source": "In this data science and ecosystem are summarized",
      "metadata": {}
    },
    {
      "cell_type": "markdown",
      "source": "some of popular lanuges that data science use are;\n1. python \n2. c++\n3. R\n4. SQL\n5. Java",
      "metadata": {}
    },
    {
      "cell_type": "markdown",
      "source": "some of data science liberaries;\n1. tensorflow\n2. Numpy.\n3. Pandas.\n4. scipy.",
      "metadata": {}
    },
    {
      "cell_type": "markdown",
      "source": "|Data Science tools|\n|....|\n|SAS|\n|Apache Hadoop|\n|Tensorflow| ",
      "metadata": {}
    },
    {
      "cell_type": "markdown",
      "source": "below are the few examples foe solving Airhthemetic operation",
      "metadata": {}
    },
    {
      "cell_type": "code",
      "source": "#this is coomon airthemetic example for multiply and add integer\n20*(34+67)",
      "metadata": {
        "trusted": true
      },
      "execution_count": 5,
      "outputs": [
        {
          "execution_count": 5,
          "output_type": "execute_result",
          "data": {
            "text/plain": "2020"
          },
          "metadata": {}
        }
      ]
    },
    {
      "cell_type": "code",
      "source": "#convert400 mintues into hours by dividing 60\n400/60",
      "metadata": {
        "trusted": true
      },
      "execution_count": 6,
      "outputs": [
        {
          "execution_count": 6,
          "output_type": "execute_result",
          "data": {
            "text/plain": "6.666666666666667"
          },
          "metadata": {}
        }
      ]
    },
    {
      "cell_type": "markdown",
      "source": "__Objectives__\n\n* list popular laguages of data science\n* list libersries of Data science\n* list of well known data science tools\n* how to provides comments in cell",
      "metadata": {}
    },
    {
      "cell_type": "markdown",
      "source": "Author\nGrave Kummar",
      "metadata": {}
    },
    {
      "cell_type": "code",
      "source": "",
      "metadata": {},
      "execution_count": null,
      "outputs": []
    }
  ]
}